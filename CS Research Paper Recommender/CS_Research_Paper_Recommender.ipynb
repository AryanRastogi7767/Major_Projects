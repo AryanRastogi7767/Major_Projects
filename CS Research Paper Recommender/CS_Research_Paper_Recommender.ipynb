{
  "nbformat": 4,
  "nbformat_minor": 0,
  "metadata": {
    "colab": {
      "name": "CS Research Paper Recommender",
      "provenance": [],
      "collapsed_sections": []
    },
    "kernelspec": {
      "display_name": "Python 3",
      "name": "python3"
    },
    "widgets": {
      "application/vnd.jupyter.widget-state+json": {
        "12b296a2ffe4427680264982f133ebd3": {
          "model_module": "@jupyter-widgets/controls",
          "model_name": "HBoxModel",
          "state": {
            "_view_name": "HBoxView",
            "_dom_classes": [],
            "_model_name": "HBoxModel",
            "_view_module": "@jupyter-widgets/controls",
            "_model_module_version": "1.5.0",
            "_view_count": null,
            "_view_module_version": "1.5.0",
            "box_style": "",
            "layout": "IPY_MODEL_06cfa2c9e80d44c1a4656291e6f27ccd",
            "_model_module": "@jupyter-widgets/controls",
            "children": [
              "IPY_MODEL_0615f1b116504609b5793ddac8fe2255",
              "IPY_MODEL_2126dddeccdb4632a69617c8b1143fe9"
            ]
          }
        },
        "06cfa2c9e80d44c1a4656291e6f27ccd": {
          "model_module": "@jupyter-widgets/base",
          "model_name": "LayoutModel",
          "state": {
            "_view_name": "LayoutView",
            "grid_template_rows": null,
            "right": null,
            "justify_content": null,
            "_view_module": "@jupyter-widgets/base",
            "overflow": null,
            "_model_module_version": "1.2.0",
            "_view_count": null,
            "flex_flow": null,
            "width": null,
            "min_width": null,
            "border": null,
            "align_items": null,
            "bottom": null,
            "_model_module": "@jupyter-widgets/base",
            "top": null,
            "grid_column": null,
            "overflow_y": null,
            "overflow_x": null,
            "grid_auto_flow": null,
            "grid_area": null,
            "grid_template_columns": null,
            "flex": null,
            "_model_name": "LayoutModel",
            "justify_items": null,
            "grid_row": null,
            "max_height": null,
            "align_content": null,
            "visibility": null,
            "align_self": null,
            "height": null,
            "min_height": null,
            "padding": null,
            "grid_auto_rows": null,
            "grid_gap": null,
            "max_width": null,
            "order": null,
            "_view_module_version": "1.2.0",
            "grid_template_areas": null,
            "object_position": null,
            "object_fit": null,
            "grid_auto_columns": null,
            "margin": null,
            "display": null,
            "left": null
          }
        },
        "0615f1b116504609b5793ddac8fe2255": {
          "model_module": "@jupyter-widgets/controls",
          "model_name": "FloatProgressModel",
          "state": {
            "_view_name": "ProgressView",
            "style": "IPY_MODEL_d2c6e525341646b69e25924df5ccec7f",
            "_dom_classes": [],
            "description": "100%",
            "_model_name": "FloatProgressModel",
            "bar_style": "success",
            "max": 99998,
            "_view_module": "@jupyter-widgets/controls",
            "_model_module_version": "1.5.0",
            "value": 99998,
            "_view_count": null,
            "_view_module_version": "1.5.0",
            "orientation": "horizontal",
            "min": 0,
            "description_tooltip": null,
            "_model_module": "@jupyter-widgets/controls",
            "layout": "IPY_MODEL_1b431f1805284ce9b67820cf42637de0"
          }
        },
        "2126dddeccdb4632a69617c8b1143fe9": {
          "model_module": "@jupyter-widgets/controls",
          "model_name": "HTMLModel",
          "state": {
            "_view_name": "HTMLView",
            "style": "IPY_MODEL_d711ce492927427ca293d1fd6470ba25",
            "_dom_classes": [],
            "description": "",
            "_model_name": "HTMLModel",
            "placeholder": "​",
            "_view_module": "@jupyter-widgets/controls",
            "_model_module_version": "1.5.0",
            "value": " 99998/99998 [00:29&lt;00:00, 3341.08it/s]",
            "_view_count": null,
            "_view_module_version": "1.5.0",
            "description_tooltip": null,
            "_model_module": "@jupyter-widgets/controls",
            "layout": "IPY_MODEL_967c85ad5f304d08a43fa5926292ea48"
          }
        },
        "d2c6e525341646b69e25924df5ccec7f": {
          "model_module": "@jupyter-widgets/controls",
          "model_name": "ProgressStyleModel",
          "state": {
            "_view_name": "StyleView",
            "_model_name": "ProgressStyleModel",
            "description_width": "initial",
            "_view_module": "@jupyter-widgets/base",
            "_model_module_version": "1.5.0",
            "_view_count": null,
            "_view_module_version": "1.2.0",
            "bar_color": null,
            "_model_module": "@jupyter-widgets/controls"
          }
        },
        "1b431f1805284ce9b67820cf42637de0": {
          "model_module": "@jupyter-widgets/base",
          "model_name": "LayoutModel",
          "state": {
            "_view_name": "LayoutView",
            "grid_template_rows": null,
            "right": null,
            "justify_content": null,
            "_view_module": "@jupyter-widgets/base",
            "overflow": null,
            "_model_module_version": "1.2.0",
            "_view_count": null,
            "flex_flow": null,
            "width": null,
            "min_width": null,
            "border": null,
            "align_items": null,
            "bottom": null,
            "_model_module": "@jupyter-widgets/base",
            "top": null,
            "grid_column": null,
            "overflow_y": null,
            "overflow_x": null,
            "grid_auto_flow": null,
            "grid_area": null,
            "grid_template_columns": null,
            "flex": null,
            "_model_name": "LayoutModel",
            "justify_items": null,
            "grid_row": null,
            "max_height": null,
            "align_content": null,
            "visibility": null,
            "align_self": null,
            "height": null,
            "min_height": null,
            "padding": null,
            "grid_auto_rows": null,
            "grid_gap": null,
            "max_width": null,
            "order": null,
            "_view_module_version": "1.2.0",
            "grid_template_areas": null,
            "object_position": null,
            "object_fit": null,
            "grid_auto_columns": null,
            "margin": null,
            "display": null,
            "left": null
          }
        },
        "d711ce492927427ca293d1fd6470ba25": {
          "model_module": "@jupyter-widgets/controls",
          "model_name": "DescriptionStyleModel",
          "state": {
            "_view_name": "StyleView",
            "_model_name": "DescriptionStyleModel",
            "description_width": "",
            "_view_module": "@jupyter-widgets/base",
            "_model_module_version": "1.5.0",
            "_view_count": null,
            "_view_module_version": "1.2.0",
            "_model_module": "@jupyter-widgets/controls"
          }
        },
        "967c85ad5f304d08a43fa5926292ea48": {
          "model_module": "@jupyter-widgets/base",
          "model_name": "LayoutModel",
          "state": {
            "_view_name": "LayoutView",
            "grid_template_rows": null,
            "right": null,
            "justify_content": null,
            "_view_module": "@jupyter-widgets/base",
            "overflow": null,
            "_model_module_version": "1.2.0",
            "_view_count": null,
            "flex_flow": null,
            "width": null,
            "min_width": null,
            "border": null,
            "align_items": null,
            "bottom": null,
            "_model_module": "@jupyter-widgets/base",
            "top": null,
            "grid_column": null,
            "overflow_y": null,
            "overflow_x": null,
            "grid_auto_flow": null,
            "grid_area": null,
            "grid_template_columns": null,
            "flex": null,
            "_model_name": "LayoutModel",
            "justify_items": null,
            "grid_row": null,
            "max_height": null,
            "align_content": null,
            "visibility": null,
            "align_self": null,
            "height": null,
            "min_height": null,
            "padding": null,
            "grid_auto_rows": null,
            "grid_gap": null,
            "max_width": null,
            "order": null,
            "_view_module_version": "1.2.0",
            "grid_template_areas": null,
            "object_position": null,
            "object_fit": null,
            "grid_auto_columns": null,
            "margin": null,
            "display": null,
            "left": null
          }
        }
      }
    }
  },
  "cells": [
    {
      "cell_type": "markdown",
      "metadata": {
        "id": "8jUsS-fkZLDz"
      },
      "source": [
        "# CS Research Paper Recommender\r\n",
        "\r\n",
        "In this project, I will develop a that will recommend CS research papers based on the similarity between the input text and the research papers in the dataset."
      ]
    },
    {
      "cell_type": "code",
      "metadata": {
        "colab": {
          "base_uri": "https://localhost:8080/"
        },
        "id": "ggi0rd6eM31O",
        "outputId": "1ac25da7-1b58-434b-d514-906da235cdda"
      },
      "source": [
        "from google.colab import drive        # Mounting google drive to google colab to import the datasets.\n",
        "drive.mount(\"/content/drive/\")"
      ],
      "execution_count": 1,
      "outputs": [
        {
          "output_type": "stream",
          "text": [
            "Mounted at /content/drive/\n"
          ],
          "name": "stdout"
        }
      ]
    },
    {
      "cell_type": "code",
      "metadata": {
        "colab": {
          "base_uri": "https://localhost:8080/"
        },
        "id": "JsA-aBwTQB51",
        "outputId": "2314519f-f78b-4569-eb23-2efe2f3f7ea6"
      },
      "source": [
        "import numpy as np  # Importing necessary libraries\n",
        "import pandas as pd\n",
        "import re\n",
        "from bs4 import BeautifulSoup\n",
        "from tqdm.notebook import tqdm\n",
        "from datetime import datetime\n",
        "import nltk\n",
        "from sklearn.metrics.pairwise import *\n",
        "from nltk.corpus import stopwords\n",
        "from nltk.stem.snowball import SnowballStemmer\n",
        "from numba import jit\n",
        "nltk.download(\"stopwords\")\n",
        "from sklearn.feature_extraction.text import TfidfVectorizer,CountVectorizer\n",
        "from sklearn.decomposition import TruncatedSVD"
      ],
      "execution_count": 2,
      "outputs": [
        {
          "output_type": "stream",
          "text": [
            "[nltk_data] Downloading package stopwords to /root/nltk_data...\n",
            "[nltk_data]   Unzipping corpora/stopwords.zip.\n"
          ],
          "name": "stdout"
        }
      ]
    },
    {
      "cell_type": "code",
      "metadata": {
        "id": "Z6x_IwteP1A7"
      },
      "source": [
        "data_info = pd.read_csv('/content/drive/My Drive/data_info.csv')    # Importing datasets from drive to pandas dataframes.\n",
        "data = pd.read_csv(\"/content/drive/My Drive/data_text.csv\")"
      ],
      "execution_count": 3,
      "outputs": []
    },
    {
      "cell_type": "code",
      "metadata": {
        "colab": {
          "base_uri": "https://localhost:8080/",
          "height": 197
        },
        "id": "f3Hut4A-gtNG",
        "outputId": "c7a17ed3-341c-4b4e-fa03-e615c53c8d52"
      },
      "source": [
        "data_info.head()   # This Dataset consists of information about the research paper that can be used to access the research paper\r\n",
        "                   # It will be useful when deploying the recommender system"
      ],
      "execution_count": 5,
      "outputs": [
        {
          "output_type": "execute_result",
          "data": {
            "text/html": [
              "<div>\n",
              "<style scoped>\n",
              "    .dataframe tbody tr th:only-of-type {\n",
              "        vertical-align: middle;\n",
              "    }\n",
              "\n",
              "    .dataframe tbody tr th {\n",
              "        vertical-align: top;\n",
              "    }\n",
              "\n",
              "    .dataframe thead th {\n",
              "        text-align: right;\n",
              "    }\n",
              "</style>\n",
              "<table border=\"1\" class=\"dataframe\">\n",
              "  <thead>\n",
              "    <tr style=\"text-align: right;\">\n",
              "      <th></th>\n",
              "      <th>id</th>\n",
              "      <th>title</th>\n",
              "      <th>abstract</th>\n",
              "      <th>year</th>\n",
              "      <th>authors</th>\n",
              "    </tr>\n",
              "  </thead>\n",
              "  <tbody>\n",
              "    <tr>\n",
              "      <th>0</th>\n",
              "      <td>2011.04896</td>\n",
              "      <td>Generalized LSTM-based End-to-End Text-Indepen...</td>\n",
              "      <td>The increasing amount of available data and ...</td>\n",
              "      <td>2020</td>\n",
              "      <td>Soroosh Tayebi Arasteh</td>\n",
              "    </tr>\n",
              "    <tr>\n",
              "      <th>1</th>\n",
              "      <td>2011.04862</td>\n",
              "      <td>On Efficient and Robust Metrics for RANSAC Hyp...</td>\n",
              "      <td>This paper focuses on developing efficient a...</td>\n",
              "      <td>2020</td>\n",
              "      <td>Jiaqi Yang, Zhiqiang Huang, Siwen Quan, Qian Z...</td>\n",
              "    </tr>\n",
              "    <tr>\n",
              "      <th>2</th>\n",
              "      <td>2011.04823</td>\n",
              "      <td>Language Through a Prism: A Spectral Approach ...</td>\n",
              "      <td>Language exhibits structure at different sca...</td>\n",
              "      <td>2020</td>\n",
              "      <td>Alex Tamkin, Dan Jurafsky, Noah Goodman</td>\n",
              "    </tr>\n",
              "    <tr>\n",
              "      <th>3</th>\n",
              "      <td>2011.04825</td>\n",
              "      <td>Multi-Agent Active Search using Realistic Dept...</td>\n",
              "      <td>The search for objects of interest in an unk...</td>\n",
              "      <td>2020</td>\n",
              "      <td>Ramina Ghods, William J. Durkin, Jeff Schneider</td>\n",
              "    </tr>\n",
              "    <tr>\n",
              "      <th>4</th>\n",
              "      <td>2011.04891</td>\n",
              "      <td>Dynamic Relay Selection and Power Allocation f...</td>\n",
              "      <td>Cooperative communication is an effective ap...</td>\n",
              "      <td>2020</td>\n",
              "      <td>Yuanzhe Geng, Erwu Liu, Rui Wang, and Yiming Liu</td>\n",
              "    </tr>\n",
              "  </tbody>\n",
              "</table>\n",
              "</div>"
            ],
            "text/plain": [
              "           id  ...                                            authors\n",
              "0  2011.04896  ...                             Soroosh Tayebi Arasteh\n",
              "1  2011.04862  ...  Jiaqi Yang, Zhiqiang Huang, Siwen Quan, Qian Z...\n",
              "2  2011.04823  ...            Alex Tamkin, Dan Jurafsky, Noah Goodman\n",
              "3  2011.04825  ...    Ramina Ghods, William J. Durkin, Jeff Schneider\n",
              "4  2011.04891  ...   Yuanzhe Geng, Erwu Liu, Rui Wang, and Yiming Liu\n",
              "\n",
              "[5 rows x 5 columns]"
            ]
          },
          "metadata": {
            "tags": []
          },
          "execution_count": 5
        }
      ]
    },
    {
      "cell_type": "code",
      "metadata": {
        "colab": {
          "base_uri": "https://localhost:8080/",
          "height": 197
        },
        "id": "4X1Pfav1gww-",
        "outputId": "ab64cc9c-584d-413d-bcbd-066ca6780e53"
      },
      "source": [
        "data.head()     # This dataset consists of the prerocessed and stemmed text and id required to build the \r\n",
        "                # recommendation system."
      ],
      "execution_count": 7,
      "outputs": [
        {
          "output_type": "execute_result",
          "data": {
            "text/html": [
              "<div>\n",
              "<style scoped>\n",
              "    .dataframe tbody tr th:only-of-type {\n",
              "        vertical-align: middle;\n",
              "    }\n",
              "\n",
              "    .dataframe tbody tr th {\n",
              "        vertical-align: top;\n",
              "    }\n",
              "\n",
              "    .dataframe thead th {\n",
              "        text-align: right;\n",
              "    }\n",
              "</style>\n",
              "<table border=\"1\" class=\"dataframe\">\n",
              "  <thead>\n",
              "    <tr style=\"text-align: right;\">\n",
              "      <th></th>\n",
              "      <th>id</th>\n",
              "      <th>preprocessed text</th>\n",
              "      <th>stemmed_text</th>\n",
              "    </tr>\n",
              "  </thead>\n",
              "  <tbody>\n",
              "    <tr>\n",
              "      <th>0</th>\n",
              "      <td>2011.04896</td>\n",
              "      <td>generalized lstm based text independent speake...</td>\n",
              "      <td>general lstm base text independ speaker verif ...</td>\n",
              "    </tr>\n",
              "    <tr>\n",
              "      <th>1</th>\n",
              "      <td>2011.04862</td>\n",
              "      <td>efficient robust metrics ransac hypotheses rig...</td>\n",
              "      <td>effici robust metric ransac hypothes rigid reg...</td>\n",
              "    </tr>\n",
              "    <tr>\n",
              "      <th>2</th>\n",
              "      <td>2011.04823</td>\n",
              "      <td>language prism spectral approach multiscale la...</td>\n",
              "      <td>languag prism spectral approach multiscal lang...</td>\n",
              "    </tr>\n",
              "    <tr>\n",
              "      <th>3</th>\n",
              "      <td>2011.04825</td>\n",
              "      <td>agent active search using realistic depth awar...</td>\n",
              "      <td>agent activ search use realist depth awar nois...</td>\n",
              "    </tr>\n",
              "    <tr>\n",
              "      <th>4</th>\n",
              "      <td>2011.04891</td>\n",
              "      <td>dynamic relay selection power allocation minim...</td>\n",
              "      <td>dynam relay select power alloc minim outag pro...</td>\n",
              "    </tr>\n",
              "  </tbody>\n",
              "</table>\n",
              "</div>"
            ],
            "text/plain": [
              "           id  ...                                       stemmed_text\n",
              "0  2011.04896  ...  general lstm base text independ speaker verif ...\n",
              "1  2011.04862  ...  effici robust metric ransac hypothes rigid reg...\n",
              "2  2011.04823  ...  languag prism spectral approach multiscal lang...\n",
              "3  2011.04825  ...  agent activ search use realist depth awar nois...\n",
              "4  2011.04891  ...  dynam relay select power alloc minim outag pro...\n",
              "\n",
              "[5 rows x 3 columns]"
            ]
          },
          "metadata": {
            "tags": []
          },
          "execution_count": 7
        }
      ]
    },
    {
      "cell_type": "code",
      "metadata": {
        "colab": {
          "base_uri": "https://localhost:8080/"
        },
        "id": "0x71kL1LzzIP",
        "outputId": "a093415f-b9ad-4686-929d-a190895787de"
      },
      "source": [
        "tfidf = TfidfVectorizer()        # Vectorizing the document using TF-IDF\r\n",
        "vectors_tfidf = tfidf.fit_transform(data['stemmed_text'])\r\n",
        "vectors_tfidf.shape"
      ],
      "execution_count": 4,
      "outputs": [
        {
          "output_type": "execute_result",
          "data": {
            "text/plain": [
              "(99998, 67362)"
            ]
          },
          "metadata": {
            "tags": []
          },
          "execution_count": 4
        }
      ]
    },
    {
      "cell_type": "code",
      "metadata": {
        "colab": {
          "base_uri": "https://localhost:8080/"
        },
        "id": "QNY4WbslmLmZ",
        "outputId": "dcb5a4d6-7345-4fc2-d28a-46f5d123a0c6"
      },
      "source": [
        "pca = TruncatedSVD(n_components=3000)  # Applying SVD to find the top 3000 features in order to reduce dimensionality and \r\n",
        "vectors = pca.fit_transform(vectors_tfidf)  # reduce the time taken to calculate similarity.\r\n",
        "print(vectors.shape)"
      ],
      "execution_count": null,
      "outputs": [
        {
          "output_type": "stream",
          "text": [
            "(99998, 3000)\n"
          ],
          "name": "stdout"
        }
      ]
    },
    {
      "cell_type": "code",
      "metadata": {
        "id": "PRid233lg0Bu"
      },
      "source": [
        "def decontracted(phrase):\r\n",
        "    '''\r\n",
        "    Converts words with \" ' \" to full form.\r\n",
        "    '''\r\n",
        "    # specific\r\n",
        "    phrase = re.sub(r\"won't\", \"will not\", phrase)  \r\n",
        "    phrase = re.sub(r\"can\\'t\", \"can not\", phrase)\r\n",
        "\r\n",
        "    # general\r\n",
        "    phrase = re.sub(r\"n\\'t\", \" not\", phrase)\r\n",
        "    phrase = re.sub(r\"\\'re\", \" are\", phrase)\r\n",
        "    phrase = re.sub(r\"\\'s\", \" is\", phrase)\r\n",
        "    phrase = re.sub(r\"\\'d\", \" would\", phrase)\r\n",
        "    phrase = re.sub(r\"\\'ll\", \" will\", phrase)\r\n",
        "    phrase = re.sub(r\"\\'t\", \" not\", phrase)\r\n",
        "    phrase = re.sub(r\"\\'ve\", \" have\", phrase)\r\n",
        "    phrase = re.sub(r\"\\'m\", \" am\", phrase)\r\n",
        "    return phrase\r\n",
        "\r\n",
        "\r\n",
        "def text_to_vector(sentance):       \r\n",
        "    \"\"\"\r\n",
        "    Converts text to final required vector.\r\n",
        "    \"\"\"\r\n",
        "    sentance = re.sub(r\"http\\S+\", \"\", sentance)\r\n",
        "    sentance = BeautifulSoup(sentance, 'lxml').get_text()\r\n",
        "    sentance = decontracted(sentance)\r\n",
        "    sentance = re.sub(\"\\S*\\d\\S*\", \"\", sentance).strip()\r\n",
        "    sentance = re.sub('[^A-Za-z]+', ' ', sentance)\r\n",
        "    sentance = ' '.join(e.lower() for e in sentance.split() if e.lower() not in stopwords.words())\r\n",
        "    stemmer = SnowballStemmer(\"english\")\r\n",
        "    stemmed_text = []\r\n",
        "    for word in sentance.split():\r\n",
        "        word = stemmer.stem(word)\r\n",
        "        stemmed_text.append(word)\r\n",
        "    sentance = \" \".join(stemmed_text)\r\n",
        "    sentance= tfidf.transform([sentance])\r\n",
        "    return sentance\r\n",
        "\r\n",
        "\r\n",
        "def recommendations(sentance,vectors_tfidf):\r\n",
        "    \"\"\"\r\n",
        "    Gives recommendations after calculating similarity.\r\n",
        "    \"\"\"\r\n",
        "    sentance = text_to_vector(sentance)\r\n",
        "    sentance = pca.transform(sentance)\r\n",
        "    similarities = []\r\n",
        "    for i in tqdm(range(vectors_tfidf.shape[0])):\r\n",
        "        similarities.append(paired_cosine_distances(sentance,vectors_tfidf[i].reshape(-1,3000))[0])\r\n",
        "    similarities= np.array(similarities).argsort()\r\n",
        "    top_rec = similarities[:10]\r\n",
        "    for item in top_rec:\r\n",
        "        print(data_info.iloc[item,:]['title'])\r\n",
        "        print(\"\\n\")\r\n",
        "    "
      ],
      "execution_count": null,
      "outputs": []
    },
    {
      "cell_type": "code",
      "metadata": {
        "id": "clbZ4wrbg5Lu"
      },
      "source": [
        "sentance = 'Generalized LSTM-based End-to-End Text-Independent Speaker Verification  The increasing amount of available data and more affordable hardware\\nsolutions have opened a gate to the realm of Deep Learning (DL). Due to the\\nrapid advancements and ever-growing popularity of DL, it has begun to invade\\nalmost every field, where machine learning is applicable, by altering the\\ntraditional state-of-the-art methods. While many researchers in the speaker\\nrecognition area have also started to replace the former state-of-the-art\\nmethods with DL techniques, some of the traditional i-vector-based methods are\\nstill state-of-the-art in the context of text-independent speaker verification\\n(TI-SV). In this paper, we discuss the most recent generalized end-to-end\\n(GE2E) DL technique based on Long Short-term Memory (LSTM) units for TI-SV by\\nGoogle and compare different scenarios and aspects including utterance\\nduration, training time, and accuracy to prove that our method outperforms the\\ntraditional methods.\\n'"
      ],
      "execution_count": null,
      "outputs": []
    },
    {
      "cell_type": "code",
      "metadata": {
        "colab": {
          "base_uri": "https://localhost:8080/",
          "height": 682,
          "referenced_widgets": [
            "12b296a2ffe4427680264982f133ebd3",
            "06cfa2c9e80d44c1a4656291e6f27ccd",
            "0615f1b116504609b5793ddac8fe2255",
            "2126dddeccdb4632a69617c8b1143fe9",
            "d2c6e525341646b69e25924df5ccec7f",
            "1b431f1805284ce9b67820cf42637de0",
            "d711ce492927427ca293d1fd6470ba25",
            "967c85ad5f304d08a43fa5926292ea48"
          ]
        },
        "id": "gPTv8XEQXgRZ",
        "outputId": "50b67877-ac52-47fe-aad6-15db15d0ebbc"
      },
      "source": [
        "recommendations(sentance,vectors)"
      ],
      "execution_count": null,
      "outputs": [
        {
          "output_type": "display_data",
          "data": {
            "application/vnd.jupyter.widget-view+json": {
              "model_id": "12b296a2ffe4427680264982f133ebd3",
              "version_minor": 0,
              "version_major": 2
            },
            "text/plain": [
              "HBox(children=(FloatProgress(value=0.0, max=99998.0), HTML(value='')))"
            ]
          },
          "metadata": {
            "tags": []
          }
        },
        {
          "output_type": "stream",
          "text": [
            "\n",
            "Generalized LSTM-based End-to-End Text-Independent Speaker Verification\n",
            "\n",
            "\n",
            "Deep learning methods in speaker recognition: a review\n",
            "\n",
            "\n",
            "Scalable Deep Learning on Distributed Infrastructures: Challenges,\n",
            "  Techniques and Tools\n",
            "\n",
            "\n",
            "Text-Independent Speaker Verification Using 3D Convolutional Neural\n",
            "  Networks\n",
            "\n",
            "\n",
            "Model Asset eXchange: Path to Ubiquitous Deep Learning Deployment\n",
            "\n",
            "\n",
            "Deep Speaker Embeddings for Far-Field Speaker Recognition on Short\n",
            "  Utterances\n",
            "\n",
            "\n",
            "Deep Learning for Source Code Modeling and Generation: Models,\n",
            "  Applications and Challenges\n",
            "\n",
            "\n",
            "An Orchestrated Empirical Study on Deep Learning Frameworks and\n",
            "  Platforms\n",
            "\n",
            "\n",
            "An Orchestrated Empirical Study on Deep Learning Frameworks and\n",
            "  Platforms\n",
            "\n",
            "\n",
            "Using Deep Learning to Improve Ensemble Smoother: Applications to\n",
            "  Subsurface Characterization\n",
            "\n",
            "\n"
          ],
          "name": "stdout"
        }
      ]
    },
    {
      "cell_type": "code",
      "metadata": {
        "id": "LYAtVPWEf_Ne"
      },
      "source": [
        ""
      ],
      "execution_count": null,
      "outputs": []
    }
  ]
}